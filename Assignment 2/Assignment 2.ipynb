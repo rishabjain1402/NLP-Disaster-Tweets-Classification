{
 "cells": [
  {
   "cell_type": "markdown",
   "id": "17840459-e3f2-4996-a5d1-a6cd814c81c6",
   "metadata": {},
   "source": [
    "## Question 1 (Binary Classification)"
   ]
  },
  {
   "cell_type": "markdown",
   "id": "1d914faf-5b7d-4898-b219-df3979d47758",
   "metadata": {},
   "source": [
    "How many training and test data points are there?\n",
    "- training data (7613,5) -> 7613 data points\n",
    "- test data (3263,4) -> 3263 data points\n",
    "\n",
    "What percentage of the training tweets are of real disasters, and what percentage is not?\n",
    "42% are real disasters, 58% are not real disasters"
   ]
  },
  {
   "cell_type": "code",
   "execution_count": 5,
   "id": "ca4fa6b1-381d-4dce-9d93-210eea438229",
   "metadata": {
    "tags": []
   },
   "outputs": [],
   "source": [
    "import pandas as pd\n",
    "import numpy as np\n",
    "from sklearn.model_selection import train_test_split"
   ]
  },
  {
   "cell_type": "markdown",
   "id": "c6273193-9141-49db-a14c-07351355bfa9",
   "metadata": {
    "tags": []
   },
   "source": [
    "### Load Dataset"
   ]
  },
  {
   "cell_type": "markdown",
   "id": "5fe57a74-5509-4218-b4e2-9807a3e3b458",
   "metadata": {
    "tags": []
   },
   "source": [
    "##### Learn shape and number of data points for train data"
   ]
  },
  {
   "cell_type": "code",
   "execution_count": 6,
   "id": "fe659008-610f-4e77-857c-3757f23169de",
   "metadata": {
    "tags": []
   },
   "outputs": [
    {
     "data": {
      "text/plain": [
       "(7613, 5)"
      ]
     },
     "execution_count": 6,
     "metadata": {},
     "output_type": "execute_result"
    }
   ],
   "source": [
    "disaster_pd = pd.read_csv(\"train.csv\")\n",
    "disaster_pd.shape"
   ]
  },
  {
   "cell_type": "markdown",
   "id": "6c564f2b-0007-47a9-a33f-fffa8c8a14e9",
   "metadata": {},
   "source": [
    "##### Find percentage of real and not real disasters"
   ]
  },
  {
   "cell_type": "code",
   "execution_count": 7,
   "id": "dc276519-f63f-40e8-9c8f-c20d707e2934",
   "metadata": {
    "tags": []
   },
   "outputs": [
    {
     "data": {
      "text/plain": [
       "0"
      ]
     },
     "execution_count": 7,
     "metadata": {},
     "output_type": "execute_result"
    }
   ],
   "source": [
    "disaster_pd['target'].isnull().sum() ### No null values"
   ]
  },
  {
   "cell_type": "code",
   "execution_count": 8,
   "id": "5c7477ff-4daa-4812-90c1-c4eaa17cdd30",
   "metadata": {
    "tags": []
   },
   "outputs": [],
   "source": [
    "real_disasters = disaster_pd['target'].sum() ### Number of real disasters"
   ]
  },
  {
   "cell_type": "code",
   "execution_count": 9,
   "id": "73d44067-2738-404a-969f-409410002b97",
   "metadata": {
    "tags": []
   },
   "outputs": [
    {
     "data": {
      "text/plain": [
       "0.4296597924602653"
      ]
     },
     "execution_count": 9,
     "metadata": {},
     "output_type": "execute_result"
    }
   ],
   "source": [
    "real_disasters / 7613"
   ]
  },
  {
   "cell_type": "markdown",
   "id": "544adf75-fe2b-4275-80ed-d332818440af",
   "metadata": {},
   "source": [
    "### Split the training data"
   ]
  },
  {
   "cell_type": "markdown",
   "id": "2471a08d-78a6-4330-b495-63d4dcd9ccf4",
   "metadata": {},
   "source": [
    "##### Seperate target data from training set"
   ]
  },
  {
   "cell_type": "code",
   "execution_count": 10,
   "id": "22a150e7-c777-451e-ac2c-5040bcff6cc0",
   "metadata": {
    "tags": []
   },
   "outputs": [],
   "source": [
    "y = disaster_pd['target']"
   ]
  },
  {
   "cell_type": "code",
   "execution_count": 11,
   "id": "24ff8c56-b22e-427a-a26f-a067b1d5558a",
   "metadata": {
    "tags": []
   },
   "outputs": [],
   "source": [
    "X = disaster_pd.drop(columns = ['target'])"
   ]
  },
  {
   "cell_type": "code",
   "execution_count": 12,
   "id": "6ced32ab-abce-4cf9-824f-ef61630160d3",
   "metadata": {
    "tags": []
   },
   "outputs": [],
   "source": [
    "X_train, X_test, y_train, y_test = train_test_split(X, y, test_size = 0.3, random_state = 42)"
   ]
  },
  {
   "cell_type": "code",
   "execution_count": 13,
   "id": "2ef604ea-6ae0-43a3-ba8b-39db47f13351",
   "metadata": {
    "tags": []
   },
   "outputs": [
    {
     "data": {
      "text/html": [
       "<div>\n",
       "<style scoped>\n",
       "    .dataframe tbody tr th:only-of-type {\n",
       "        vertical-align: middle;\n",
       "    }\n",
       "\n",
       "    .dataframe tbody tr th {\n",
       "        vertical-align: top;\n",
       "    }\n",
       "\n",
       "    .dataframe thead th {\n",
       "        text-align: right;\n",
       "    }\n",
       "</style>\n",
       "<table border=\"1\" class=\"dataframe\">\n",
       "  <thead>\n",
       "    <tr style=\"text-align: right;\">\n",
       "      <th></th>\n",
       "      <th>id</th>\n",
       "      <th>keyword</th>\n",
       "      <th>location</th>\n",
       "      <th>text</th>\n",
       "    </tr>\n",
       "  </thead>\n",
       "  <tbody>\n",
       "    <tr>\n",
       "      <th>1186</th>\n",
       "      <td>1707</td>\n",
       "      <td>bridge%20collapse</td>\n",
       "      <td>NaN</td>\n",
       "      <td>Ashes 2015: AustraliaÛªs collapse at Trent Br...</td>\n",
       "    </tr>\n",
       "    <tr>\n",
       "      <th>4071</th>\n",
       "      <td>5789</td>\n",
       "      <td>hail</td>\n",
       "      <td>Carol Stream, Illinois</td>\n",
       "      <td>GREAT MICHIGAN TECHNIQUE CAMP\\nB1G THANKS TO @...</td>\n",
       "    </tr>\n",
       "    <tr>\n",
       "      <th>5461</th>\n",
       "      <td>7789</td>\n",
       "      <td>police</td>\n",
       "      <td>Houston</td>\n",
       "      <td>CNN: Tennessee movie theater shooting suspect ...</td>\n",
       "    </tr>\n",
       "    <tr>\n",
       "      <th>5787</th>\n",
       "      <td>8257</td>\n",
       "      <td>rioting</td>\n",
       "      <td>NaN</td>\n",
       "      <td>Still rioting in a couple of hours left until ...</td>\n",
       "    </tr>\n",
       "    <tr>\n",
       "      <th>7445</th>\n",
       "      <td>10656</td>\n",
       "      <td>wounds</td>\n",
       "      <td>Lake Highlands</td>\n",
       "      <td>Crack in the path where I wiped out this morni...</td>\n",
       "    </tr>\n",
       "    <tr>\n",
       "      <th>...</th>\n",
       "      <td>...</td>\n",
       "      <td>...</td>\n",
       "      <td>...</td>\n",
       "      <td>...</td>\n",
       "    </tr>\n",
       "    <tr>\n",
       "      <th>5226</th>\n",
       "      <td>7470</td>\n",
       "      <td>obliteration</td>\n",
       "      <td>Merica!</td>\n",
       "      <td>@Eganator2000 There aren't many Obliteration s...</td>\n",
       "    </tr>\n",
       "    <tr>\n",
       "      <th>5390</th>\n",
       "      <td>7691</td>\n",
       "      <td>panic</td>\n",
       "      <td>NaN</td>\n",
       "      <td>just had a panic attack bc I don't have enough...</td>\n",
       "    </tr>\n",
       "    <tr>\n",
       "      <th>860</th>\n",
       "      <td>1242</td>\n",
       "      <td>blood</td>\n",
       "      <td>NaN</td>\n",
       "      <td>Omron HEM-712C Automatic Blood Pressure Monito...</td>\n",
       "    </tr>\n",
       "    <tr>\n",
       "      <th>7603</th>\n",
       "      <td>10862</td>\n",
       "      <td>NaN</td>\n",
       "      <td>NaN</td>\n",
       "      <td>Officials say a quarantine is in place at an A...</td>\n",
       "    </tr>\n",
       "    <tr>\n",
       "      <th>7270</th>\n",
       "      <td>10409</td>\n",
       "      <td>whirlwind</td>\n",
       "      <td>Stamford &amp; Cork (&amp; Shropshire)</td>\n",
       "      <td>I moved to England five years ago today. What ...</td>\n",
       "    </tr>\n",
       "  </tbody>\n",
       "</table>\n",
       "<p>5329 rows × 4 columns</p>\n",
       "</div>"
      ],
      "text/plain": [
       "         id            keyword                        location  \\\n",
       "1186   1707  bridge%20collapse                             NaN   \n",
       "4071   5789               hail          Carol Stream, Illinois   \n",
       "5461   7789             police                        Houston    \n",
       "5787   8257            rioting                             NaN   \n",
       "7445  10656             wounds                  Lake Highlands   \n",
       "...     ...                ...                             ...   \n",
       "5226   7470       obliteration                         Merica!   \n",
       "5390   7691              panic                             NaN   \n",
       "860    1242              blood                             NaN   \n",
       "7603  10862                NaN                             NaN   \n",
       "7270  10409          whirlwind  Stamford & Cork (& Shropshire)   \n",
       "\n",
       "                                                   text  \n",
       "1186  Ashes 2015: AustraliaÛªs collapse at Trent Br...  \n",
       "4071  GREAT MICHIGAN TECHNIQUE CAMP\\nB1G THANKS TO @...  \n",
       "5461  CNN: Tennessee movie theater shooting suspect ...  \n",
       "5787  Still rioting in a couple of hours left until ...  \n",
       "7445  Crack in the path where I wiped out this morni...  \n",
       "...                                                 ...  \n",
       "5226  @Eganator2000 There aren't many Obliteration s...  \n",
       "5390  just had a panic attack bc I don't have enough...  \n",
       "860   Omron HEM-712C Automatic Blood Pressure Monito...  \n",
       "7603  Officials say a quarantine is in place at an A...  \n",
       "7270  I moved to England five years ago today. What ...  \n",
       "\n",
       "[5329 rows x 4 columns]"
      ]
     },
     "execution_count": 13,
     "metadata": {},
     "output_type": "execute_result"
    }
   ],
   "source": [
    "X_train"
   ]
  },
  {
   "cell_type": "markdown",
   "id": "7a13357a-07ae-48a7-b691-6568c680506d",
   "metadata": {},
   "source": [
    "### Preprocess Data"
   ]
  },
  {
   "cell_type": "markdown",
   "id": "b915bb05-3273-4d9a-ae95-a63d7bda5c9c",
   "metadata": {
    "tags": []
   },
   "source": [
    "#### Convert all the words to lowercase"
   ]
  },
  {
   "cell_type": "code",
   "execution_count": 14,
   "id": "d41cee83-fab7-4e8e-bb41-ac4d590586f7",
   "metadata": {
    "tags": []
   },
   "outputs": [],
   "source": [
    "X_train['text'] = X_train['text'].str.lower()\n",
    "X_train['location'] = X_train['location'].str.lower()"
   ]
  },
  {
   "cell_type": "code",
   "execution_count": 15,
   "id": "33b0490b-694f-4ef5-9bee-9d8228ee7904",
   "metadata": {
    "tags": []
   },
   "outputs": [
    {
     "data": {
      "text/html": [
       "<div>\n",
       "<style scoped>\n",
       "    .dataframe tbody tr th:only-of-type {\n",
       "        vertical-align: middle;\n",
       "    }\n",
       "\n",
       "    .dataframe tbody tr th {\n",
       "        vertical-align: top;\n",
       "    }\n",
       "\n",
       "    .dataframe thead th {\n",
       "        text-align: right;\n",
       "    }\n",
       "</style>\n",
       "<table border=\"1\" class=\"dataframe\">\n",
       "  <thead>\n",
       "    <tr style=\"text-align: right;\">\n",
       "      <th></th>\n",
       "      <th>id</th>\n",
       "      <th>keyword</th>\n",
       "      <th>location</th>\n",
       "      <th>text</th>\n",
       "    </tr>\n",
       "  </thead>\n",
       "  <tbody>\n",
       "    <tr>\n",
       "      <th>1186</th>\n",
       "      <td>1707</td>\n",
       "      <td>bridge%20collapse</td>\n",
       "      <td>NaN</td>\n",
       "      <td>ashes 2015: australiaûªs collapse at trent br...</td>\n",
       "    </tr>\n",
       "    <tr>\n",
       "      <th>4071</th>\n",
       "      <td>5789</td>\n",
       "      <td>hail</td>\n",
       "      <td>carol stream, illinois</td>\n",
       "      <td>great michigan technique camp\\nb1g thanks to @...</td>\n",
       "    </tr>\n",
       "    <tr>\n",
       "      <th>5461</th>\n",
       "      <td>7789</td>\n",
       "      <td>police</td>\n",
       "      <td>houston</td>\n",
       "      <td>cnn: tennessee movie theater shooting suspect ...</td>\n",
       "    </tr>\n",
       "    <tr>\n",
       "      <th>5787</th>\n",
       "      <td>8257</td>\n",
       "      <td>rioting</td>\n",
       "      <td>NaN</td>\n",
       "      <td>still rioting in a couple of hours left until ...</td>\n",
       "    </tr>\n",
       "    <tr>\n",
       "      <th>7445</th>\n",
       "      <td>10656</td>\n",
       "      <td>wounds</td>\n",
       "      <td>lake highlands</td>\n",
       "      <td>crack in the path where i wiped out this morni...</td>\n",
       "    </tr>\n",
       "    <tr>\n",
       "      <th>...</th>\n",
       "      <td>...</td>\n",
       "      <td>...</td>\n",
       "      <td>...</td>\n",
       "      <td>...</td>\n",
       "    </tr>\n",
       "    <tr>\n",
       "      <th>5226</th>\n",
       "      <td>7470</td>\n",
       "      <td>obliteration</td>\n",
       "      <td>merica!</td>\n",
       "      <td>@eganator2000 there aren't many obliteration s...</td>\n",
       "    </tr>\n",
       "    <tr>\n",
       "      <th>5390</th>\n",
       "      <td>7691</td>\n",
       "      <td>panic</td>\n",
       "      <td>NaN</td>\n",
       "      <td>just had a panic attack bc i don't have enough...</td>\n",
       "    </tr>\n",
       "    <tr>\n",
       "      <th>860</th>\n",
       "      <td>1242</td>\n",
       "      <td>blood</td>\n",
       "      <td>NaN</td>\n",
       "      <td>omron hem-712c automatic blood pressure monito...</td>\n",
       "    </tr>\n",
       "    <tr>\n",
       "      <th>7603</th>\n",
       "      <td>10862</td>\n",
       "      <td>NaN</td>\n",
       "      <td>NaN</td>\n",
       "      <td>officials say a quarantine is in place at an a...</td>\n",
       "    </tr>\n",
       "    <tr>\n",
       "      <th>7270</th>\n",
       "      <td>10409</td>\n",
       "      <td>whirlwind</td>\n",
       "      <td>stamford &amp; cork (&amp; shropshire)</td>\n",
       "      <td>i moved to england five years ago today. what ...</td>\n",
       "    </tr>\n",
       "  </tbody>\n",
       "</table>\n",
       "<p>5329 rows × 4 columns</p>\n",
       "</div>"
      ],
      "text/plain": [
       "         id            keyword                        location  \\\n",
       "1186   1707  bridge%20collapse                             NaN   \n",
       "4071   5789               hail          carol stream, illinois   \n",
       "5461   7789             police                        houston    \n",
       "5787   8257            rioting                             NaN   \n",
       "7445  10656             wounds                  lake highlands   \n",
       "...     ...                ...                             ...   \n",
       "5226   7470       obliteration                         merica!   \n",
       "5390   7691              panic                             NaN   \n",
       "860    1242              blood                             NaN   \n",
       "7603  10862                NaN                             NaN   \n",
       "7270  10409          whirlwind  stamford & cork (& shropshire)   \n",
       "\n",
       "                                                   text  \n",
       "1186  ashes 2015: australiaûªs collapse at trent br...  \n",
       "4071  great michigan technique camp\\nb1g thanks to @...  \n",
       "5461  cnn: tennessee movie theater shooting suspect ...  \n",
       "5787  still rioting in a couple of hours left until ...  \n",
       "7445  crack in the path where i wiped out this morni...  \n",
       "...                                                 ...  \n",
       "5226  @eganator2000 there aren't many obliteration s...  \n",
       "5390  just had a panic attack bc i don't have enough...  \n",
       "860   omron hem-712c automatic blood pressure monito...  \n",
       "7603  officials say a quarantine is in place at an a...  \n",
       "7270  i moved to england five years ago today. what ...  \n",
       "\n",
       "[5329 rows x 4 columns]"
      ]
     },
     "execution_count": 15,
     "metadata": {},
     "output_type": "execute_result"
    }
   ],
   "source": [
    "X_train"
   ]
  },
  {
   "cell_type": "code",
   "execution_count": 16,
   "id": "23f6347b-6b77-4bdd-819c-442efcf106a8",
   "metadata": {
    "tags": []
   },
   "outputs": [],
   "source": [
    "X_test['text'] = X_test['text'].str.lower()\n",
    "X_test['location'] = X_test['location'].str.lower()"
   ]
  },
  {
   "cell_type": "markdown",
   "id": "971b92ee-a797-4911-a832-fbc99e3aca0e",
   "metadata": {
    "tags": []
   },
   "source": [
    "#### Lemmatize all the words"
   ]
  },
  {
   "cell_type": "code",
   "execution_count": 17,
   "id": "e6bbe844-01be-4cbb-8c17-c4e2b35931f3",
   "metadata": {
    "tags": []
   },
   "outputs": [],
   "source": [
    "#X_train['text'] = X_train['text'].apply(lemmatize_func)"
   ]
  },
  {
   "cell_type": "code",
   "execution_count": 18,
   "id": "80af4e91-d458-4e8e-977f-6499991ea92c",
   "metadata": {
    "tags": []
   },
   "outputs": [],
   "source": [
    "#X_train.head()"
   ]
  },
  {
   "cell_type": "code",
   "execution_count": 19,
   "id": "9ddfde51-1c6b-4102-aebb-858f6113b0c0",
   "metadata": {
    "tags": []
   },
   "outputs": [],
   "source": [
    "from nltk.stem import PorterStemmer\n",
    "porter = PorterStemmer()\n",
    "\n",
    "def lemmatize_func(text):\n",
    "    words = text.split()\n",
    "    lemmatize_words = [porter.stem(word) for word in words]\n",
    "    return ' '.join(lemmatize_words) ### essentially returning lemmatized words into sentence"
   ]
  },
  {
   "cell_type": "code",
   "execution_count": 20,
   "id": "b2c0e6a9-c089-4a59-aad0-d5a17146cc83",
   "metadata": {
    "tags": []
   },
   "outputs": [],
   "source": [
    "X_train['text'] = X_train['text'].apply(lemmatize_func)"
   ]
  },
  {
   "cell_type": "code",
   "execution_count": 21,
   "id": "9fdde392-5a23-410d-b049-7f7f977f101d",
   "metadata": {
    "tags": []
   },
   "outputs": [
    {
     "data": {
      "text/html": [
       "<div>\n",
       "<style scoped>\n",
       "    .dataframe tbody tr th:only-of-type {\n",
       "        vertical-align: middle;\n",
       "    }\n",
       "\n",
       "    .dataframe tbody tr th {\n",
       "        vertical-align: top;\n",
       "    }\n",
       "\n",
       "    .dataframe thead th {\n",
       "        text-align: right;\n",
       "    }\n",
       "</style>\n",
       "<table border=\"1\" class=\"dataframe\">\n",
       "  <thead>\n",
       "    <tr style=\"text-align: right;\">\n",
       "      <th></th>\n",
       "      <th>id</th>\n",
       "      <th>keyword</th>\n",
       "      <th>location</th>\n",
       "      <th>text</th>\n",
       "    </tr>\n",
       "  </thead>\n",
       "  <tbody>\n",
       "    <tr>\n",
       "      <th>1186</th>\n",
       "      <td>1707</td>\n",
       "      <td>bridge%20collapse</td>\n",
       "      <td>NaN</td>\n",
       "      <td>ash 2015: australiaûª collaps at trent bridg ...</td>\n",
       "    </tr>\n",
       "    <tr>\n",
       "      <th>4071</th>\n",
       "      <td>5789</td>\n",
       "      <td>hail</td>\n",
       "      <td>carol stream, illinois</td>\n",
       "      <td>great michigan techniqu camp b1g thank to @bmu...</td>\n",
       "    </tr>\n",
       "    <tr>\n",
       "      <th>5461</th>\n",
       "      <td>7789</td>\n",
       "      <td>police</td>\n",
       "      <td>houston</td>\n",
       "      <td>cnn: tennesse movi theater shoot suspect kill ...</td>\n",
       "    </tr>\n",
       "    <tr>\n",
       "      <th>5787</th>\n",
       "      <td>8257</td>\n",
       "      <td>rioting</td>\n",
       "      <td>NaN</td>\n",
       "      <td>still riot in a coupl of hour left until i hav...</td>\n",
       "    </tr>\n",
       "    <tr>\n",
       "      <th>7445</th>\n",
       "      <td>10656</td>\n",
       "      <td>wounds</td>\n",
       "      <td>lake highlands</td>\n",
       "      <td>crack in the path where i wipe out thi morn du...</td>\n",
       "    </tr>\n",
       "  </tbody>\n",
       "</table>\n",
       "</div>"
      ],
      "text/plain": [
       "         id            keyword                location  \\\n",
       "1186   1707  bridge%20collapse                     NaN   \n",
       "4071   5789               hail  carol stream, illinois   \n",
       "5461   7789             police                houston    \n",
       "5787   8257            rioting                     NaN   \n",
       "7445  10656             wounds          lake highlands   \n",
       "\n",
       "                                                   text  \n",
       "1186  ash 2015: australiaûª collaps at trent bridg ...  \n",
       "4071  great michigan techniqu camp b1g thank to @bmu...  \n",
       "5461  cnn: tennesse movi theater shoot suspect kill ...  \n",
       "5787  still riot in a coupl of hour left until i hav...  \n",
       "7445  crack in the path where i wipe out thi morn du...  "
      ]
     },
     "execution_count": 21,
     "metadata": {},
     "output_type": "execute_result"
    }
   ],
   "source": [
    "X_train.head()"
   ]
  },
  {
   "cell_type": "code",
   "execution_count": 22,
   "id": "5ee8248b-a7d9-4c97-9104-26906e75c6a0",
   "metadata": {
    "tags": []
   },
   "outputs": [],
   "source": [
    "X_test['text'] = X_test['text'].apply(lemmatize_func)"
   ]
  },
  {
   "cell_type": "code",
   "execution_count": 23,
   "id": "f060147e-944c-4a60-b8f6-ff8bf565d8ee",
   "metadata": {
    "tags": []
   },
   "outputs": [
    {
     "data": {
      "text/html": [
       "<div>\n",
       "<style scoped>\n",
       "    .dataframe tbody tr th:only-of-type {\n",
       "        vertical-align: middle;\n",
       "    }\n",
       "\n",
       "    .dataframe tbody tr th {\n",
       "        vertical-align: top;\n",
       "    }\n",
       "\n",
       "    .dataframe thead th {\n",
       "        text-align: right;\n",
       "    }\n",
       "</style>\n",
       "<table border=\"1\" class=\"dataframe\">\n",
       "  <thead>\n",
       "    <tr style=\"text-align: right;\">\n",
       "      <th></th>\n",
       "      <th>id</th>\n",
       "      <th>keyword</th>\n",
       "      <th>location</th>\n",
       "      <th>text</th>\n",
       "    </tr>\n",
       "  </thead>\n",
       "  <tbody>\n",
       "    <tr>\n",
       "      <th>2644</th>\n",
       "      <td>3796</td>\n",
       "      <td>destruction</td>\n",
       "      <td>NaN</td>\n",
       "      <td>so you have a new weapon that can caus un-imag...</td>\n",
       "    </tr>\n",
       "    <tr>\n",
       "      <th>2227</th>\n",
       "      <td>3185</td>\n",
       "      <td>deluge</td>\n",
       "      <td>NaN</td>\n",
       "      <td>the f$&amp;amp;@ thing i do for #gishwh just got s...</td>\n",
       "    </tr>\n",
       "    <tr>\n",
       "      <th>5448</th>\n",
       "      <td>7769</td>\n",
       "      <td>police</td>\n",
       "      <td>uk</td>\n",
       "      <td>dt @georgegalloway: rt @galloway4mayor: ûïthe...</td>\n",
       "    </tr>\n",
       "    <tr>\n",
       "      <th>132</th>\n",
       "      <td>191</td>\n",
       "      <td>aftershock</td>\n",
       "      <td>NaN</td>\n",
       "      <td>aftershock back to school kick off wa great. i...</td>\n",
       "    </tr>\n",
       "    <tr>\n",
       "      <th>6845</th>\n",
       "      <td>9810</td>\n",
       "      <td>trauma</td>\n",
       "      <td>montgomery county, md</td>\n",
       "      <td>in respons to trauma children of addict develo...</td>\n",
       "    </tr>\n",
       "  </tbody>\n",
       "</table>\n",
       "</div>"
      ],
      "text/plain": [
       "        id      keyword               location  \\\n",
       "2644  3796  destruction                    NaN   \n",
       "2227  3185       deluge                    NaN   \n",
       "5448  7769       police                     uk   \n",
       "132    191   aftershock                    NaN   \n",
       "6845  9810       trauma  montgomery county, md   \n",
       "\n",
       "                                                   text  \n",
       "2644  so you have a new weapon that can caus un-imag...  \n",
       "2227  the f$&amp;@ thing i do for #gishwh just got s...  \n",
       "5448  dt @georgegalloway: rt @galloway4mayor: ûïthe...  \n",
       "132   aftershock back to school kick off wa great. i...  \n",
       "6845  in respons to trauma children of addict develo...  "
      ]
     },
     "execution_count": 23,
     "metadata": {},
     "output_type": "execute_result"
    }
   ],
   "source": [
    "X_test.head()"
   ]
  },
  {
   "cell_type": "markdown",
   "id": "337b3fd5-e15f-43e0-9c4d-abe30216d5af",
   "metadata": {
    "tags": []
   },
   "source": [
    "#### Strip punctuation\n",
    "\n",
    "Credit: https://www.geeksforgeeks.org/python-remove-punctuation-from-string/"
   ]
  },
  {
   "cell_type": "code",
   "execution_count": 24,
   "id": "5adb13d6-98d7-4331-8ffe-cdabfbc85e49",
   "metadata": {
    "tags": []
   },
   "outputs": [],
   "source": [
    "import string\n",
    "\n",
    "def strip_punctuation(text):\n",
    "    return text.translate(str.maketrans('', '', string.punctuation))\n"
   ]
  },
  {
   "cell_type": "code",
   "execution_count": 25,
   "id": "adbb5392-65a8-4fa8-b11a-05c22805f852",
   "metadata": {
    "tags": []
   },
   "outputs": [],
   "source": [
    "X_train['text'] = X_train['text'].apply(strip_punctuation)\n",
    "X_test['text'] = X_test['text'].apply(strip_punctuation)"
   ]
  },
  {
   "cell_type": "code",
   "execution_count": 26,
   "id": "2158c9f6-1d98-4bef-b2af-061f2cc04d5d",
   "metadata": {
    "tags": []
   },
   "outputs": [
    {
     "data": {
      "text/html": [
       "<div>\n",
       "<style scoped>\n",
       "    .dataframe tbody tr th:only-of-type {\n",
       "        vertical-align: middle;\n",
       "    }\n",
       "\n",
       "    .dataframe tbody tr th {\n",
       "        vertical-align: top;\n",
       "    }\n",
       "\n",
       "    .dataframe thead th {\n",
       "        text-align: right;\n",
       "    }\n",
       "</style>\n",
       "<table border=\"1\" class=\"dataframe\">\n",
       "  <thead>\n",
       "    <tr style=\"text-align: right;\">\n",
       "      <th></th>\n",
       "      <th>id</th>\n",
       "      <th>keyword</th>\n",
       "      <th>location</th>\n",
       "      <th>text</th>\n",
       "    </tr>\n",
       "  </thead>\n",
       "  <tbody>\n",
       "    <tr>\n",
       "      <th>1186</th>\n",
       "      <td>1707</td>\n",
       "      <td>bridge%20collapse</td>\n",
       "      <td>NaN</td>\n",
       "      <td>ash 2015 australiaûª collaps at trent bridg a...</td>\n",
       "    </tr>\n",
       "    <tr>\n",
       "      <th>4071</th>\n",
       "      <td>5789</td>\n",
       "      <td>hail</td>\n",
       "      <td>carol stream, illinois</td>\n",
       "      <td>great michigan techniqu camp b1g thank to bmur...</td>\n",
       "    </tr>\n",
       "    <tr>\n",
       "      <th>5461</th>\n",
       "      <td>7789</td>\n",
       "      <td>police</td>\n",
       "      <td>houston</td>\n",
       "      <td>cnn tennesse movi theater shoot suspect kill b...</td>\n",
       "    </tr>\n",
       "    <tr>\n",
       "      <th>5787</th>\n",
       "      <td>8257</td>\n",
       "      <td>rioting</td>\n",
       "      <td>NaN</td>\n",
       "      <td>still riot in a coupl of hour left until i hav...</td>\n",
       "    </tr>\n",
       "    <tr>\n",
       "      <th>7445</th>\n",
       "      <td>10656</td>\n",
       "      <td>wounds</td>\n",
       "      <td>lake highlands</td>\n",
       "      <td>crack in the path where i wipe out thi morn du...</td>\n",
       "    </tr>\n",
       "    <tr>\n",
       "      <th>...</th>\n",
       "      <td>...</td>\n",
       "      <td>...</td>\n",
       "      <td>...</td>\n",
       "      <td>...</td>\n",
       "    </tr>\n",
       "    <tr>\n",
       "      <th>5226</th>\n",
       "      <td>7470</td>\n",
       "      <td>obliteration</td>\n",
       "      <td>merica!</td>\n",
       "      <td>eganator2000 there arent mani obliter server b...</td>\n",
       "    </tr>\n",
       "    <tr>\n",
       "      <th>5390</th>\n",
       "      <td>7691</td>\n",
       "      <td>panic</td>\n",
       "      <td>NaN</td>\n",
       "      <td>just had a panic attack bc i dont have enough ...</td>\n",
       "    </tr>\n",
       "    <tr>\n",
       "      <th>860</th>\n",
       "      <td>1242</td>\n",
       "      <td>blood</td>\n",
       "      <td>NaN</td>\n",
       "      <td>omron hem712c automat blood pressur monitor st...</td>\n",
       "    </tr>\n",
       "    <tr>\n",
       "      <th>7603</th>\n",
       "      <td>10862</td>\n",
       "      <td>NaN</td>\n",
       "      <td>NaN</td>\n",
       "      <td>offici say a quarantin is in place at an alaba...</td>\n",
       "    </tr>\n",
       "    <tr>\n",
       "      <th>7270</th>\n",
       "      <td>10409</td>\n",
       "      <td>whirlwind</td>\n",
       "      <td>stamford &amp; cork (&amp; shropshire)</td>\n",
       "      <td>i move to england five year ago today what a w...</td>\n",
       "    </tr>\n",
       "  </tbody>\n",
       "</table>\n",
       "<p>5329 rows × 4 columns</p>\n",
       "</div>"
      ],
      "text/plain": [
       "         id            keyword                        location  \\\n",
       "1186   1707  bridge%20collapse                             NaN   \n",
       "4071   5789               hail          carol stream, illinois   \n",
       "5461   7789             police                        houston    \n",
       "5787   8257            rioting                             NaN   \n",
       "7445  10656             wounds                  lake highlands   \n",
       "...     ...                ...                             ...   \n",
       "5226   7470       obliteration                         merica!   \n",
       "5390   7691              panic                             NaN   \n",
       "860    1242              blood                             NaN   \n",
       "7603  10862                NaN                             NaN   \n",
       "7270  10409          whirlwind  stamford & cork (& shropshire)   \n",
       "\n",
       "                                                   text  \n",
       "1186  ash 2015 australiaûª collaps at trent bridg a...  \n",
       "4071  great michigan techniqu camp b1g thank to bmur...  \n",
       "5461  cnn tennesse movi theater shoot suspect kill b...  \n",
       "5787  still riot in a coupl of hour left until i hav...  \n",
       "7445  crack in the path where i wipe out thi morn du...  \n",
       "...                                                 ...  \n",
       "5226  eganator2000 there arent mani obliter server b...  \n",
       "5390  just had a panic attack bc i dont have enough ...  \n",
       "860   omron hem712c automat blood pressur monitor st...  \n",
       "7603  offici say a quarantin is in place at an alaba...  \n",
       "7270  i move to england five year ago today what a w...  \n",
       "\n",
       "[5329 rows x 4 columns]"
      ]
     },
     "execution_count": 26,
     "metadata": {},
     "output_type": "execute_result"
    }
   ],
   "source": [
    "X_train"
   ]
  },
  {
   "cell_type": "markdown",
   "id": "472d093d-a32c-468f-ae98-5ce6efdc20fa",
   "metadata": {},
   "source": [
    "#### Strip stop words\n",
    "\n",
    "Reference: https://www.geeksforgeeks.org/removing-stop-words-nltk-python/"
   ]
  },
  {
   "cell_type": "code",
   "execution_count": 27,
   "id": "51cf5e27-eb3b-42cb-809b-fc3a65d7053f",
   "metadata": {
    "tags": []
   },
   "outputs": [
    {
     "name": "stderr",
     "output_type": "stream",
     "text": [
      "[nltk_data] Downloading package stopwords to\n",
      "[nltk_data]     C:\\Users\\risha\\AppData\\Roaming\\nltk_data...\n",
      "[nltk_data]   Package stopwords is already up-to-date!\n"
     ]
    }
   ],
   "source": [
    "### Download stop words from nltk\n",
    "import nltk\n",
    "from nltk.corpus import stopwords\n",
    "\n",
    "nltk.download('stopwords')\n",
    "stop_words = stopwords.words('english')\n",
    "\n",
    "def stop_words_removal(df, column):\n",
    "    return df[column].apply(lambda x: ' '.join([word for word in x.split() if word not in (stop_words)]))"
   ]
  },
  {
   "cell_type": "code",
   "execution_count": 28,
   "id": "0b65d0bd-3fa3-424e-8d4e-d7eaa0bef976",
   "metadata": {
    "tags": []
   },
   "outputs": [],
   "source": [
    "X_train['text'] = stop_words_removal(X_train, 'text')\n",
    "X_test['text'] = stop_words_removal(X_test, 'text')"
   ]
  },
  {
   "cell_type": "code",
   "execution_count": 29,
   "id": "872453b9-895a-4e62-998c-8493b6dcdd3c",
   "metadata": {
    "tags": []
   },
   "outputs": [
    {
     "data": {
      "text/html": [
       "<div>\n",
       "<style scoped>\n",
       "    .dataframe tbody tr th:only-of-type {\n",
       "        vertical-align: middle;\n",
       "    }\n",
       "\n",
       "    .dataframe tbody tr th {\n",
       "        vertical-align: top;\n",
       "    }\n",
       "\n",
       "    .dataframe thead th {\n",
       "        text-align: right;\n",
       "    }\n",
       "</style>\n",
       "<table border=\"1\" class=\"dataframe\">\n",
       "  <thead>\n",
       "    <tr style=\"text-align: right;\">\n",
       "      <th></th>\n",
       "      <th>id</th>\n",
       "      <th>keyword</th>\n",
       "      <th>location</th>\n",
       "      <th>text</th>\n",
       "    </tr>\n",
       "  </thead>\n",
       "  <tbody>\n",
       "    <tr>\n",
       "      <th>1186</th>\n",
       "      <td>1707</td>\n",
       "      <td>bridge%20collapse</td>\n",
       "      <td>NaN</td>\n",
       "      <td>ash 2015 australiaûª collaps trent bridg amon...</td>\n",
       "    </tr>\n",
       "    <tr>\n",
       "      <th>4071</th>\n",
       "      <td>5789</td>\n",
       "      <td>hail</td>\n",
       "      <td>carol stream, illinois</td>\n",
       "      <td>great michigan techniqu camp b1g thank bmurph1...</td>\n",
       "    </tr>\n",
       "    <tr>\n",
       "      <th>5461</th>\n",
       "      <td>7789</td>\n",
       "      <td>police</td>\n",
       "      <td>houston</td>\n",
       "      <td>cnn tennesse movi theater shoot suspect kill p...</td>\n",
       "    </tr>\n",
       "    <tr>\n",
       "      <th>5787</th>\n",
       "      <td>8257</td>\n",
       "      <td>rioting</td>\n",
       "      <td>NaN</td>\n",
       "      <td>still riot coupl hour left class</td>\n",
       "    </tr>\n",
       "    <tr>\n",
       "      <th>7445</th>\n",
       "      <td>10656</td>\n",
       "      <td>wounds</td>\n",
       "      <td>lake highlands</td>\n",
       "      <td>crack path wipe thi morn dure beach run surfac...</td>\n",
       "    </tr>\n",
       "    <tr>\n",
       "      <th>...</th>\n",
       "      <td>...</td>\n",
       "      <td>...</td>\n",
       "      <td>...</td>\n",
       "      <td>...</td>\n",
       "    </tr>\n",
       "    <tr>\n",
       "      <th>5226</th>\n",
       "      <td>7470</td>\n",
       "      <td>obliteration</td>\n",
       "      <td>merica!</td>\n",
       "      <td>eganator2000 arent mani obliter server alway l...</td>\n",
       "    </tr>\n",
       "    <tr>\n",
       "      <th>5390</th>\n",
       "      <td>7691</td>\n",
       "      <td>panic</td>\n",
       "      <td>NaN</td>\n",
       "      <td>panic attack bc dont enough money drug alcohol...</td>\n",
       "    </tr>\n",
       "    <tr>\n",
       "      <th>860</th>\n",
       "      <td>1242</td>\n",
       "      <td>blood</td>\n",
       "      <td>NaN</td>\n",
       "      <td>omron hem712c automat blood pressur monitor st...</td>\n",
       "    </tr>\n",
       "    <tr>\n",
       "      <th>7603</th>\n",
       "      <td>10862</td>\n",
       "      <td>NaN</td>\n",
       "      <td>NaN</td>\n",
       "      <td>offici say quarantin place alabama home possib...</td>\n",
       "    </tr>\n",
       "    <tr>\n",
       "      <th>7270</th>\n",
       "      <td>10409</td>\n",
       "      <td>whirlwind</td>\n",
       "      <td>stamford &amp; cork (&amp; shropshire)</td>\n",
       "      <td>move england five year ago today whirlwind tim...</td>\n",
       "    </tr>\n",
       "  </tbody>\n",
       "</table>\n",
       "<p>5329 rows × 4 columns</p>\n",
       "</div>"
      ],
      "text/plain": [
       "         id            keyword                        location  \\\n",
       "1186   1707  bridge%20collapse                             NaN   \n",
       "4071   5789               hail          carol stream, illinois   \n",
       "5461   7789             police                        houston    \n",
       "5787   8257            rioting                             NaN   \n",
       "7445  10656             wounds                  lake highlands   \n",
       "...     ...                ...                             ...   \n",
       "5226   7470       obliteration                         merica!   \n",
       "5390   7691              panic                             NaN   \n",
       "860    1242              blood                             NaN   \n",
       "7603  10862                NaN                             NaN   \n",
       "7270  10409          whirlwind  stamford & cork (& shropshire)   \n",
       "\n",
       "                                                   text  \n",
       "1186  ash 2015 australiaûª collaps trent bridg amon...  \n",
       "4071  great michigan techniqu camp b1g thank bmurph1...  \n",
       "5461  cnn tennesse movi theater shoot suspect kill p...  \n",
       "5787                   still riot coupl hour left class  \n",
       "7445  crack path wipe thi morn dure beach run surfac...  \n",
       "...                                                 ...  \n",
       "5226  eganator2000 arent mani obliter server alway l...  \n",
       "5390  panic attack bc dont enough money drug alcohol...  \n",
       "860   omron hem712c automat blood pressur monitor st...  \n",
       "7603  offici say quarantin place alabama home possib...  \n",
       "7270  move england five year ago today whirlwind tim...  \n",
       "\n",
       "[5329 rows x 4 columns]"
      ]
     },
     "execution_count": 29,
     "metadata": {},
     "output_type": "execute_result"
    }
   ],
   "source": [
    "X_train"
   ]
  },
  {
   "cell_type": "markdown",
   "id": "833a93b5-0552-465b-a35d-c09f575d8845",
   "metadata": {},
   "source": [
    "#### Strip @ and urls\n",
    "\n",
    "Reference: https://github.com/sugatagh/Natural-Language-Processing-with-Disaster-Tweets/blob/main/natural-language-processing-with-disaster-tweets.ipynb"
   ]
  },
  {
   "cell_type": "code",
   "execution_count": 72,
   "id": "a8853069-c610-41e2-b360-e03b323b0d9f",
   "metadata": {
    "tags": []
   },
   "outputs": [],
   "source": [
    "import re\n",
    "\n",
    "def clean_text(text):\n",
    "    text = re.sub(r'http\\S+|www\\S+|https\\S+', '', text, flags=re.MULTILINE)\n",
    "    text = re.sub(r'\\b[a-zA-Z0-9]{10,}\\b', '', text)\n",
    "    text = re.sub(r'\\s+', ' ', text).strip()\n",
    "    return text\n",
    "\n",
    "X_train['text_clean'] = X_train['text'].apply(clean_text)\n",
    "X_test['text_clean'] = X_test['text'].apply(clean_text)\n",
    "    "
   ]
  },
  {
   "cell_type": "markdown",
   "id": "e2583ecf-d327-4989-a4bd-62f61d301d62",
   "metadata": {},
   "source": [
    "#### Extra Cleaning Steps"
   ]
  },
  {
   "cell_type": "markdown",
   "id": "0a676576-7b60-4ede-a23e-9e8e322a60cd",
   "metadata": {
    "tags": []
   },
   "source": [
    "##### Remove Non_Ascii Characters"
   ]
  },
  {
   "cell_type": "code",
   "execution_count": 73,
   "id": "60807723-3bbc-4fcf-83a1-533aac4fac00",
   "metadata": {
    "tags": []
   },
   "outputs": [],
   "source": [
    "def remove_non_ascii(text):\n",
    "    return re.sub(r'[^\\x00-\\x7F]+', '', text)\n",
    "\n",
    "X_train['text_clean'] = X_train['text_clean'].apply(remove_non_ascii)\n",
    "X_test['text_clean'] = X_test['text_clean'].apply(remove_non_ascii)"
   ]
  },
  {
   "cell_type": "code",
   "execution_count": 74,
   "id": "f3713dc4-f919-4635-83ef-7fdc2d2eb984",
   "metadata": {
    "tags": []
   },
   "outputs": [
    {
     "data": {
      "text/html": [
       "<div>\n",
       "<style scoped>\n",
       "    .dataframe tbody tr th:only-of-type {\n",
       "        vertical-align: middle;\n",
       "    }\n",
       "\n",
       "    .dataframe tbody tr th {\n",
       "        vertical-align: top;\n",
       "    }\n",
       "\n",
       "    .dataframe thead th {\n",
       "        text-align: right;\n",
       "    }\n",
       "</style>\n",
       "<table border=\"1\" class=\"dataframe\">\n",
       "  <thead>\n",
       "    <tr style=\"text-align: right;\">\n",
       "      <th></th>\n",
       "      <th>id</th>\n",
       "      <th>keyword</th>\n",
       "      <th>location</th>\n",
       "      <th>text</th>\n",
       "      <th>text_clean</th>\n",
       "    </tr>\n",
       "  </thead>\n",
       "  <tbody>\n",
       "    <tr>\n",
       "      <th>1186</th>\n",
       "      <td>1707</td>\n",
       "      <td>bridge%20collapse</td>\n",
       "      <td>NaN</td>\n",
       "      <td>ash 2015 australiaûª collaps trent bridg amon...</td>\n",
       "      <td>ash 2015 australia collaps trent bridg among w...</td>\n",
       "    </tr>\n",
       "    <tr>\n",
       "      <th>4071</th>\n",
       "      <td>5789</td>\n",
       "      <td>hail</td>\n",
       "      <td>carol stream, illinois</td>\n",
       "      <td>great michigan techniqu camp b1g thank bmurph1...</td>\n",
       "      <td>great michigan techniqu camp b1g thank termn8r...</td>\n",
       "    </tr>\n",
       "    <tr>\n",
       "      <th>5461</th>\n",
       "      <td>7789</td>\n",
       "      <td>police</td>\n",
       "      <td>houston</td>\n",
       "      <td>cnn tennesse movi theater shoot suspect kill p...</td>\n",
       "      <td>cnn tennesse movi theater shoot suspect kill p...</td>\n",
       "    </tr>\n",
       "    <tr>\n",
       "      <th>5787</th>\n",
       "      <td>8257</td>\n",
       "      <td>rioting</td>\n",
       "      <td>NaN</td>\n",
       "      <td>still riot coupl hour left class</td>\n",
       "      <td>still riot coupl hour left class</td>\n",
       "    </tr>\n",
       "    <tr>\n",
       "      <th>7445</th>\n",
       "      <td>10656</td>\n",
       "      <td>wounds</td>\n",
       "      <td>lake highlands</td>\n",
       "      <td>crack path wipe thi morn dure beach run surfac...</td>\n",
       "      <td>crack path wipe thi morn dure beach run surfac...</td>\n",
       "    </tr>\n",
       "    <tr>\n",
       "      <th>...</th>\n",
       "      <td>...</td>\n",
       "      <td>...</td>\n",
       "      <td>...</td>\n",
       "      <td>...</td>\n",
       "      <td>...</td>\n",
       "    </tr>\n",
       "    <tr>\n",
       "      <th>5226</th>\n",
       "      <td>7470</td>\n",
       "      <td>obliteration</td>\n",
       "      <td>merica!</td>\n",
       "      <td>eganator2000 arent mani obliter server alway l...</td>\n",
       "      <td>arent mani obliter server alway like play</td>\n",
       "    </tr>\n",
       "    <tr>\n",
       "      <th>5390</th>\n",
       "      <td>7691</td>\n",
       "      <td>panic</td>\n",
       "      <td>NaN</td>\n",
       "      <td>panic attack bc dont enough money drug alcohol...</td>\n",
       "      <td>panic attack bc dont enough money drug alcohol...</td>\n",
       "    </tr>\n",
       "    <tr>\n",
       "      <th>860</th>\n",
       "      <td>1242</td>\n",
       "      <td>blood</td>\n",
       "      <td>NaN</td>\n",
       "      <td>omron hem712c automat blood pressur monitor st...</td>\n",
       "      <td>omron hem712c automat blood pressur monitor st...</td>\n",
       "    </tr>\n",
       "    <tr>\n",
       "      <th>7603</th>\n",
       "      <td>10862</td>\n",
       "      <td>NaN</td>\n",
       "      <td>NaN</td>\n",
       "      <td>offici say quarantin place alabama home possib...</td>\n",
       "      <td>offici say quarantin place alabama home possib...</td>\n",
       "    </tr>\n",
       "    <tr>\n",
       "      <th>7270</th>\n",
       "      <td>10409</td>\n",
       "      <td>whirlwind</td>\n",
       "      <td>stamford &amp; cork (&amp; shropshire)</td>\n",
       "      <td>move england five year ago today whirlwind tim...</td>\n",
       "      <td>move england five year ago today whirlwind tim...</td>\n",
       "    </tr>\n",
       "  </tbody>\n",
       "</table>\n",
       "<p>5329 rows × 5 columns</p>\n",
       "</div>"
      ],
      "text/plain": [
       "         id            keyword                        location  \\\n",
       "1186   1707  bridge%20collapse                             NaN   \n",
       "4071   5789               hail          carol stream, illinois   \n",
       "5461   7789             police                        houston    \n",
       "5787   8257            rioting                             NaN   \n",
       "7445  10656             wounds                  lake highlands   \n",
       "...     ...                ...                             ...   \n",
       "5226   7470       obliteration                         merica!   \n",
       "5390   7691              panic                             NaN   \n",
       "860    1242              blood                             NaN   \n",
       "7603  10862                NaN                             NaN   \n",
       "7270  10409          whirlwind  stamford & cork (& shropshire)   \n",
       "\n",
       "                                                   text  \\\n",
       "1186  ash 2015 australiaûª collaps trent bridg amon...   \n",
       "4071  great michigan techniqu camp b1g thank bmurph1...   \n",
       "5461  cnn tennesse movi theater shoot suspect kill p...   \n",
       "5787                   still riot coupl hour left class   \n",
       "7445  crack path wipe thi morn dure beach run surfac...   \n",
       "...                                                 ...   \n",
       "5226  eganator2000 arent mani obliter server alway l...   \n",
       "5390  panic attack bc dont enough money drug alcohol...   \n",
       "860   omron hem712c automat blood pressur monitor st...   \n",
       "7603  offici say quarantin place alabama home possib...   \n",
       "7270  move england five year ago today whirlwind tim...   \n",
       "\n",
       "                                             text_clean  \n",
       "1186  ash 2015 australia collaps trent bridg among w...  \n",
       "4071  great michigan techniqu camp b1g thank termn8r...  \n",
       "5461  cnn tennesse movi theater shoot suspect kill p...  \n",
       "5787                   still riot coupl hour left class  \n",
       "7445  crack path wipe thi morn dure beach run surfac...  \n",
       "...                                                 ...  \n",
       "5226          arent mani obliter server alway like play  \n",
       "5390  panic attack bc dont enough money drug alcohol...  \n",
       "860   omron hem712c automat blood pressur monitor st...  \n",
       "7603  offici say quarantin place alabama home possib...  \n",
       "7270  move england five year ago today whirlwind tim...  \n",
       "\n",
       "[5329 rows x 5 columns]"
      ]
     },
     "execution_count": 74,
     "metadata": {},
     "output_type": "execute_result"
    }
   ],
   "source": [
    "X_train"
   ]
  },
  {
   "cell_type": "markdown",
   "id": "2134fc8b-8eaa-4388-aec0-ed5fd3f0d145",
   "metadata": {
    "tags": []
   },
   "source": [
    "##### Remove Numbers"
   ]
  },
  {
   "cell_type": "code",
   "execution_count": 75,
   "id": "d817d7a1-9489-4fef-b256-5f454dad0043",
   "metadata": {
    "tags": []
   },
   "outputs": [],
   "source": [
    "X_train['text_clean'] = X_train['text_clean'].str.replace(r'\\d+', '', regex=True)\n",
    "X_test['text_clean'] = X_test['text_clean'].str.replace(r'\\d+', '', regex=True)\n"
   ]
  },
  {
   "cell_type": "code",
   "execution_count": 76,
   "id": "6112c3e9-2b01-4422-b0f5-011685bd2552",
   "metadata": {
    "tags": []
   },
   "outputs": [
    {
     "data": {
      "text/html": [
       "<div>\n",
       "<style scoped>\n",
       "    .dataframe tbody tr th:only-of-type {\n",
       "        vertical-align: middle;\n",
       "    }\n",
       "\n",
       "    .dataframe tbody tr th {\n",
       "        vertical-align: top;\n",
       "    }\n",
       "\n",
       "    .dataframe thead th {\n",
       "        text-align: right;\n",
       "    }\n",
       "</style>\n",
       "<table border=\"1\" class=\"dataframe\">\n",
       "  <thead>\n",
       "    <tr style=\"text-align: right;\">\n",
       "      <th></th>\n",
       "      <th>id</th>\n",
       "      <th>keyword</th>\n",
       "      <th>location</th>\n",
       "      <th>text</th>\n",
       "      <th>text_clean</th>\n",
       "    </tr>\n",
       "  </thead>\n",
       "  <tbody>\n",
       "    <tr>\n",
       "      <th>1186</th>\n",
       "      <td>1707</td>\n",
       "      <td>bridge%20collapse</td>\n",
       "      <td>NaN</td>\n",
       "      <td>ash 2015 australiaûª collaps trent bridg amon...</td>\n",
       "      <td>ash  australia collaps trent bridg among worst...</td>\n",
       "    </tr>\n",
       "    <tr>\n",
       "      <th>4071</th>\n",
       "      <td>5789</td>\n",
       "      <td>hail</td>\n",
       "      <td>carol stream, illinois</td>\n",
       "      <td>great michigan techniqu camp b1g thank bmurph1...</td>\n",
       "      <td>great michigan techniqu camp bg thank termnr g...</td>\n",
       "    </tr>\n",
       "    <tr>\n",
       "      <th>5461</th>\n",
       "      <td>7789</td>\n",
       "      <td>police</td>\n",
       "      <td>houston</td>\n",
       "      <td>cnn tennesse movi theater shoot suspect kill p...</td>\n",
       "      <td>cnn tennesse movi theater shoot suspect kill p...</td>\n",
       "    </tr>\n",
       "    <tr>\n",
       "      <th>5787</th>\n",
       "      <td>8257</td>\n",
       "      <td>rioting</td>\n",
       "      <td>NaN</td>\n",
       "      <td>still riot coupl hour left class</td>\n",
       "      <td>still riot coupl hour left class</td>\n",
       "    </tr>\n",
       "    <tr>\n",
       "      <th>7445</th>\n",
       "      <td>10656</td>\n",
       "      <td>wounds</td>\n",
       "      <td>lake highlands</td>\n",
       "      <td>crack path wipe thi morn dure beach run surfac...</td>\n",
       "      <td>crack path wipe thi morn dure beach run surfac...</td>\n",
       "    </tr>\n",
       "    <tr>\n",
       "      <th>...</th>\n",
       "      <td>...</td>\n",
       "      <td>...</td>\n",
       "      <td>...</td>\n",
       "      <td>...</td>\n",
       "      <td>...</td>\n",
       "    </tr>\n",
       "    <tr>\n",
       "      <th>5226</th>\n",
       "      <td>7470</td>\n",
       "      <td>obliteration</td>\n",
       "      <td>merica!</td>\n",
       "      <td>eganator2000 arent mani obliter server alway l...</td>\n",
       "      <td>arent mani obliter server alway like play</td>\n",
       "    </tr>\n",
       "    <tr>\n",
       "      <th>5390</th>\n",
       "      <td>7691</td>\n",
       "      <td>panic</td>\n",
       "      <td>NaN</td>\n",
       "      <td>panic attack bc dont enough money drug alcohol...</td>\n",
       "      <td>panic attack bc dont enough money drug alcohol...</td>\n",
       "    </tr>\n",
       "    <tr>\n",
       "      <th>860</th>\n",
       "      <td>1242</td>\n",
       "      <td>blood</td>\n",
       "      <td>NaN</td>\n",
       "      <td>omron hem712c automat blood pressur monitor st...</td>\n",
       "      <td>omron hemc automat blood pressur monitor stand...</td>\n",
       "    </tr>\n",
       "    <tr>\n",
       "      <th>7603</th>\n",
       "      <td>10862</td>\n",
       "      <td>NaN</td>\n",
       "      <td>NaN</td>\n",
       "      <td>offici say quarantin place alabama home possib...</td>\n",
       "      <td>offici say quarantin place alabama home possib...</td>\n",
       "    </tr>\n",
       "    <tr>\n",
       "      <th>7270</th>\n",
       "      <td>10409</td>\n",
       "      <td>whirlwind</td>\n",
       "      <td>stamford &amp; cork (&amp; shropshire)</td>\n",
       "      <td>move england five year ago today whirlwind tim...</td>\n",
       "      <td>move england five year ago today whirlwind tim...</td>\n",
       "    </tr>\n",
       "  </tbody>\n",
       "</table>\n",
       "<p>5329 rows × 5 columns</p>\n",
       "</div>"
      ],
      "text/plain": [
       "         id            keyword                        location  \\\n",
       "1186   1707  bridge%20collapse                             NaN   \n",
       "4071   5789               hail          carol stream, illinois   \n",
       "5461   7789             police                        houston    \n",
       "5787   8257            rioting                             NaN   \n",
       "7445  10656             wounds                  lake highlands   \n",
       "...     ...                ...                             ...   \n",
       "5226   7470       obliteration                         merica!   \n",
       "5390   7691              panic                             NaN   \n",
       "860    1242              blood                             NaN   \n",
       "7603  10862                NaN                             NaN   \n",
       "7270  10409          whirlwind  stamford & cork (& shropshire)   \n",
       "\n",
       "                                                   text  \\\n",
       "1186  ash 2015 australiaûª collaps trent bridg amon...   \n",
       "4071  great michigan techniqu camp b1g thank bmurph1...   \n",
       "5461  cnn tennesse movi theater shoot suspect kill p...   \n",
       "5787                   still riot coupl hour left class   \n",
       "7445  crack path wipe thi morn dure beach run surfac...   \n",
       "...                                                 ...   \n",
       "5226  eganator2000 arent mani obliter server alway l...   \n",
       "5390  panic attack bc dont enough money drug alcohol...   \n",
       "860   omron hem712c automat blood pressur monitor st...   \n",
       "7603  offici say quarantin place alabama home possib...   \n",
       "7270  move england five year ago today whirlwind tim...   \n",
       "\n",
       "                                             text_clean  \n",
       "1186  ash  australia collaps trent bridg among worst...  \n",
       "4071  great michigan techniqu camp bg thank termnr g...  \n",
       "5461  cnn tennesse movi theater shoot suspect kill p...  \n",
       "5787                   still riot coupl hour left class  \n",
       "7445  crack path wipe thi morn dure beach run surfac...  \n",
       "...                                                 ...  \n",
       "5226          arent mani obliter server alway like play  \n",
       "5390  panic attack bc dont enough money drug alcohol...  \n",
       "860   omron hemc automat blood pressur monitor stand...  \n",
       "7603  offici say quarantin place alabama home possib...  \n",
       "7270  move england five year ago today whirlwind tim...  \n",
       "\n",
       "[5329 rows x 5 columns]"
      ]
     },
     "execution_count": 76,
     "metadata": {},
     "output_type": "execute_result"
    }
   ],
   "source": [
    "X_train"
   ]
  },
  {
   "cell_type": "markdown",
   "id": "0f133765-43ce-4023-8e32-cb4298673993",
   "metadata": {},
   "source": [
    "### Bags of words model"
   ]
  },
  {
   "cell_type": "code",
   "execution_count": 77,
   "id": "de79b522",
   "metadata": {},
   "outputs": [],
   "source": [
    "from sklearn.feature_extraction.text import CountVectorizer\n",
    "\n",
    "count_vect = CountVectorizer(binary=True, min_df = 5)\n",
    "X_train_bag = count_vect.fit_transform(X_train['text_clean']) #array of words seen in each tweet\n",
    "X_test_bag = count_vect.transform(X_test['text_clean'])"
   ]
  },
  {
   "cell_type": "code",
   "execution_count": 78,
   "id": "91f3aafc",
   "metadata": {},
   "outputs": [
    {
     "data": {
      "text/plain": [
       "(5329, 1825)"
      ]
     },
     "execution_count": 78,
     "metadata": {},
     "output_type": "execute_result"
    }
   ],
   "source": [
    "X_train_bag.shape"
   ]
  },
  {
   "cell_type": "code",
   "execution_count": 79,
   "id": "3bc5e556",
   "metadata": {},
   "outputs": [
    {
     "data": {
      "text/plain": [
       "(2284, 1825)"
      ]
     },
     "execution_count": 79,
     "metadata": {},
     "output_type": "execute_result"
    }
   ],
   "source": [
    "X_test_bag.shape"
   ]
  },
  {
   "cell_type": "code",
   "execution_count": 80,
   "id": "e946dc9b",
   "metadata": {
    "scrolled": false
   },
   "outputs": [
    {
     "name": "stdout",
     "output_type": "stream",
     "text": [
      "Total number of features: 1825\n"
     ]
    }
   ],
   "source": [
    "vocab_size = len(count_vect.get_feature_names_out())\n",
    "print(f\"Total number of features: {vocab_size}\")"
   ]
  },
  {
   "cell_type": "markdown",
   "id": "bb4a585d",
   "metadata": {},
   "source": [
    "### Logistic Regression"
   ]
  },
  {
   "cell_type": "markdown",
   "id": "abd13cc7",
   "metadata": {},
   "source": [
    "#### Train logistic model without L2 regularization"
   ]
  },
  {
   "cell_type": "code",
   "execution_count": 81,
   "id": "c4a7710f",
   "metadata": {},
   "outputs": [
    {
     "name": "stderr",
     "output_type": "stream",
     "text": [
      "C:\\Users\\risha\\AppData\\Roaming\\Python\\Python37\\site-packages\\sklearn\\linear_model\\_logistic.py:818: ConvergenceWarning: lbfgs failed to converge (status=1):\n",
      "STOP: TOTAL NO. of ITERATIONS REACHED LIMIT.\n",
      "\n",
      "Increase the number of iterations (max_iter) or scale the data as shown in:\n",
      "    https://scikit-learn.org/stable/modules/preprocessing.html\n",
      "Please also refer to the documentation for alternative solver options:\n",
      "    https://scikit-learn.org/stable/modules/linear_model.html#logistic-regression\n",
      "  extra_warning_msg=_LOGISTIC_SOLVER_CONVERGENCE_MSG,\n"
     ]
    },
    {
     "data": {
      "text/plain": [
       "LogisticRegression(max_iter=1000, penalty='none', verbose=True)"
      ]
     },
     "execution_count": 81,
     "metadata": {},
     "output_type": "execute_result"
    }
   ],
   "source": [
    "from sklearn.linear_model import LogisticRegression\n",
    "from sklearn.metrics import f1_score\n",
    "\n",
    "logreg = LogisticRegression(penalty='none', verbose=True, max_iter=1000)\n",
    "\n",
    "logreg.fit(X_train_bag, y_train)"
   ]
  },
  {
   "cell_type": "markdown",
   "id": "7fdfcd6e",
   "metadata": {},
   "source": [
    "#### Pedict on training dataset "
   ]
  },
  {
   "cell_type": "code",
   "execution_count": 82,
   "id": "4ef23624",
   "metadata": {},
   "outputs": [],
   "source": [
    "y_train_pred = logreg.predict(X_train_bag)\n",
    "f1_train = f1_score(y_train, y_train_pred)            "
   ]
  },
  {
   "cell_type": "markdown",
   "id": "e222c967",
   "metadata": {},
   "source": [
    "#### F1 score in training set"
   ]
  },
  {
   "cell_type": "code",
   "execution_count": 83,
   "id": "e69b1e6c",
   "metadata": {},
   "outputs": [
    {
     "data": {
      "text/plain": [
       "0.9718928414580589"
      ]
     },
     "execution_count": 83,
     "metadata": {},
     "output_type": "execute_result"
    }
   ],
   "source": [
    "f1_train"
   ]
  },
  {
   "cell_type": "markdown",
   "id": "0930b950",
   "metadata": {},
   "source": [
    "#### Predict on holdout set"
   ]
  },
  {
   "cell_type": "code",
   "execution_count": 84,
   "id": "c3d4fe92",
   "metadata": {},
   "outputs": [],
   "source": [
    "y_test_pred = logreg.predict(X_test_bag)\n",
    "f1_test = f1_score(y_test, y_test_pred)  "
   ]
  },
  {
   "cell_type": "markdown",
   "id": "bf9caebd",
   "metadata": {},
   "source": [
    "#### F1 score in development set"
   ]
  },
  {
   "cell_type": "code",
   "execution_count": 85,
   "id": "fbc836fd",
   "metadata": {},
   "outputs": [
    {
     "data": {
      "text/plain": [
       "0.6610837438423645"
      ]
     },
     "execution_count": 85,
     "metadata": {},
     "output_type": "execute_result"
    }
   ],
   "source": [
    "f1_test"
   ]
  },
  {
   "cell_type": "markdown",
   "id": "ddcca3ff",
   "metadata": {},
   "source": [
    "We beleive this model experiences overfitting. As we can see from our F1 scores, the F1 score for the training set is much higher than that of the holdout set. The model on the training set performed very well with high precision and recall (roughly 0.98). However, the test F1 score was much lower at approximatley 0.67. "
   ]
  },
  {
   "cell_type": "markdown",
   "id": "dc05a7c1",
   "metadata": {},
   "source": [
    "#### Logistic Regression Model with L1 regularization"
   ]
  },
  {
   "cell_type": "markdown",
   "id": "70f19a60",
   "metadata": {},
   "source": [
    "Reference: https://scikit-learn.org/stable/auto_examples/linear_model/plot_logistic_path.html"
   ]
  },
  {
   "cell_type": "code",
   "execution_count": 86,
   "id": "1d592cb0",
   "metadata": {},
   "outputs": [],
   "source": [
    "#logistic regression model with L1 regularization\n",
    "\n",
    "log_reg_l1 = LogisticRegression(penalty='l1', solver='liblinear', max_iter=1000, C = 1)\n",
    "\n",
    "log_reg_l1.fit(X_train_bag, y_train)\n",
    "\n",
    "y_train_pred_l1 = log_reg_l1.predict(X_train_bag)\n",
    "\n",
    "y_test_pred_l1 = log_reg_l1.predict(X_test_bag)"
   ]
  },
  {
   "cell_type": "markdown",
   "id": "cbf6c0ca",
   "metadata": {},
   "source": [
    "Note: Different C-values were implemented to determine the more optimal strength of the regualizer. C = 1 outputted the best F1 score for the test data"
   ]
  },
  {
   "cell_type": "markdown",
   "id": "06e41e1f",
   "metadata": {},
   "source": [
    "#### F1 score for training data"
   ]
  },
  {
   "cell_type": "code",
   "execution_count": 87,
   "id": "52976885",
   "metadata": {},
   "outputs": [
    {
     "data": {
      "text/plain": [
       "0.8279694373697615"
      ]
     },
     "execution_count": 87,
     "metadata": {},
     "output_type": "execute_result"
    }
   ],
   "source": [
    "f1_train_l1 = f1_score(y_train, y_train_pred_l1)\n",
    "f1_train_l1"
   ]
  },
  {
   "cell_type": "markdown",
   "id": "5f9b7bcc",
   "metadata": {},
   "source": [
    "#### F1 score for test data"
   ]
  },
  {
   "cell_type": "code",
   "execution_count": 88,
   "id": "e1c50489",
   "metadata": {},
   "outputs": [
    {
     "data": {
      "text/plain": [
       "0.7445414847161572"
      ]
     },
     "execution_count": 88,
     "metadata": {},
     "output_type": "execute_result"
    }
   ],
   "source": [
    "f1_test_l1 = f1_score(y_test, y_test_pred_l1)\n",
    "f1_test_l1"
   ]
  },
  {
   "cell_type": "markdown",
   "id": "d803334d",
   "metadata": {},
   "source": [
    "The performance of the logistic regression with the L1 regualizer was much better than the previous model without a regularization. The F1 score for the training set was not as high, and the F1 score for the test data become much increased as well. Overall, the performance of the model was fairly close for both the training and development set. However, the model is still slight overfitting the training set. "
   ]
  },
  {
   "cell_type": "markdown",
   "id": "6e2483a9",
   "metadata": {},
   "source": [
    "#### Logisitc regression with L2 Regularizer"
   ]
  },
  {
   "cell_type": "code",
   "execution_count": 89,
   "id": "f81cb92b",
   "metadata": {},
   "outputs": [],
   "source": [
    "log_reg_l2 = LogisticRegression(penalty='l2', solver='liblinear', max_iter=1000)"
   ]
  },
  {
   "cell_type": "code",
   "execution_count": 90,
   "id": "633862e8",
   "metadata": {},
   "outputs": [
    {
     "data": {
      "text/plain": [
       "LogisticRegression(max_iter=1000, solver='liblinear')"
      ]
     },
     "execution_count": 90,
     "metadata": {},
     "output_type": "execute_result"
    }
   ],
   "source": [
    "log_reg_l2.fit(X_train_bag,y_train)"
   ]
  },
  {
   "cell_type": "code",
   "execution_count": 91,
   "id": "f1ef3c90",
   "metadata": {},
   "outputs": [],
   "source": [
    "y_train_pred_l2 = log_reg_l2.predict(X_train_bag)\n",
    "y_test_pred_l2 = log_reg_l2.predict(X_test_bag)"
   ]
  },
  {
   "cell_type": "markdown",
   "id": "7b7f18ff",
   "metadata": {},
   "source": [
    "#### F1 score for training"
   ]
  },
  {
   "cell_type": "code",
   "execution_count": 92,
   "id": "66797ec8",
   "metadata": {},
   "outputs": [
    {
     "data": {
      "text/plain": [
       "0.8516129032258064"
      ]
     },
     "execution_count": 92,
     "metadata": {},
     "output_type": "execute_result"
    }
   ],
   "source": [
    "f1_train_l2 = f1_score(y_train, y_train_pred_l2)\n",
    "f1_train_l2"
   ]
  },
  {
   "cell_type": "markdown",
   "id": "7c69eb8d",
   "metadata": {},
   "source": [
    "#### F1 score for test data"
   ]
  },
  {
   "cell_type": "code",
   "execution_count": 93,
   "id": "e6d755ec",
   "metadata": {},
   "outputs": [
    {
     "data": {
      "text/plain": [
       "0.7438558164937193"
      ]
     },
     "execution_count": 93,
     "metadata": {},
     "output_type": "execute_result"
    }
   ],
   "source": [
    "f1_test_l2 = f1_score(y_test, y_test_pred_l2)\n",
    "f1_test_l2"
   ]
  },
  {
   "cell_type": "markdown",
   "id": "ea9adc26",
   "metadata": {},
   "source": [
    "The Logistic Regression model with the L2 regularizer had roughly the same performance as the L1 regularization. The performance was slightly better for the test data.\n",
    "\n",
    "The logistic regression with no regularization was very overfitting.The training performance score of a 0.91 was very high compared to the 0.67 F1 score for the test data, which was the lowest out of all 3 of the classifiers.\n",
    "\n",
    "The L1 reglarizer was better with a F1 training score of 0.83 and a F1 test score of 0.74. The L2 regularization had a slightly better training F1 score of 0.85, but ultimately had the same performance when predicting the test data with an F1 score of 0.74. \n",
    "\n",
    "Note: The word test and development set is being used interchangably. Ultimately, we are implementing these models on the development set. The development set is 30% of the training data, and was done during the \"Split Training Data\" step."
   ]
  },
  {
   "cell_type": "markdown",
   "id": "d569e4cc",
   "metadata": {},
   "source": [
    "#### Inspect weight vector with L1 regularization"
   ]
  },
  {
   "cell_type": "markdown",
   "id": "faa756b1",
   "metadata": {},
   "source": [
    "Reference: https://scikit-learn.org/dev/modules/generated/sklearn.linear_model.LinearRegression.html"
   ]
  },
  {
   "cell_type": "code",
   "execution_count": 102,
   "id": "acf75dd7",
   "metadata": {},
   "outputs": [
    {
     "name": "stdout",
     "output_type": "stream",
     "text": [
      "Top Positive Words:\n",
      "Word: spill, Weight: 4.309336959881795\n",
      "Word: hiroshima, Weight: 3.789952411469966\n",
      "Word: outbreak, Weight: 3.631030479972402\n",
      "Word: earthquak, Weight: 3.3409816274774964\n",
      "Word: migrant, Weight: 3.228607970985584\n",
      "\n",
      "Top Negative Words:\n",
      "Word: ebay, Weight: -2.63399043757554\n",
      "Word: attempt, Weight: -2.1657340670075484\n",
      "Word: charact, Weight: -2.09519684195879\n",
      "Word: hurt, Weight: -2.0222904803956805\n",
      "Word: better, Weight: -1.8857716756476268\n"
     ]
    }
   ],
   "source": [
    "weights = log_reg_l1.coef_[0]\n",
    "\n",
    "# Gather words from vectorizer (vocabulary list)\n",
    "features = np.array(count_vect.get_feature_names_out())\n",
    "\n",
    "# Sort by weights (needed help from ChatGPT for this step)\n",
    "sort_pos = np.argsort(weights)[::-1]  # descending order\n",
    "sort_neg = np.argsort(weights)  # ascending order\n",
    "\n",
    "\n",
    "features_pos = features[sort_pos[:5]]\n",
    "weights_pos = weights[sort_pos[:5]]\n",
    "\n",
    "\n",
    "features_neg = features[sort_neg[:5]]\n",
    "weights_neg = weights[sort_neg[:5]]\n",
    "\n",
    "# Print the positive weights \n",
    "print(\"Top Positive Words:\")\n",
    "for word, weight in zip(features_pos, weights_pos):\n",
    "    print(f\"Word: {word}, Weight: {weight}\")\n",
    "\n",
    "# Print the negative weights \n",
    "print(\"\\nTop Negative Words:\")\n",
    "for word, weight in zip(features_neg, weights_neg):\n",
    "    print(f\"Word: {word}, Weight: {weight}\")"
   ]
  },
  {
   "cell_type": "markdown",
   "id": "1f8082f8",
   "metadata": {},
   "source": [
    "Inspecting the weight vector of the trained model, we printed out the top most influential words based on their weights (both negative and positive correlations). We notice that words such as \"spill\" and \"hiroshima\" are most likely found in disaster tweets. Furthermore, the negative wwight implies the model takes in words such as \"ebay\" abd \"attempt\" and classifies these tweets more towards \"not-disasters\". The words in the list above are typically associated with disaster or non-distaser scenarios. Therefore, the model performed as expected."
   ]
  },
  {
   "cell_type": "markdown",
   "id": "95eb88f1",
   "metadata": {},
   "source": [
    "### Bernoulli Naive Bayes"
   ]
  },
  {
   "cell_type": "markdown",
   "id": "1fedf8c3",
   "metadata": {},
   "source": [
    "#### Compute the maximum likelihood model parameters"
   ]
  },
  {
   "cell_type": "code",
   "execution_count": 149,
   "id": "dd6c0bdd",
   "metadata": {},
   "outputs": [
    {
     "name": "stdout",
     "output_type": "stream",
     "text": [
      "[[0.00231328 0.00099141 0.00066094 ... 0.00033047 0.00198282 0.00528751]\n",
      " [0.00130039 0.00303424 0.00866927 ... 0.00303424 0.00086693 0.00346771]] \n",
      "\n",
      " [0.56746106 0.43253894]\n"
     ]
    }
   ],
   "source": [
    "n = X_train_bag.shape[0] #n size of data  set\n",
    "d = X_train_bag.shape[1] #d number of features (words)\n",
    "k = 2 # number of classes\n",
    "\n",
    "#shape of parameters\n",
    "psis = np.zeros([k,d])\n",
    "phis = np.zeros([k])\n",
    "\n",
    "#compute parameters kd\n",
    "\n",
    "alpha = 1\n",
    "for k in range(k):\n",
    "    X_k = X_train_bag[y_train == k]\n",
    "    psis[k] = (X_k.sum(axis=0) + alpha) / (X_k.shape[0] + (2 * alpha)) #Laplace smoothing\n",
    "    phis[k] = X_k.shape[0] / float(n)\n",
    "\n",
    "# print out the class proportions\n",
    "print(psis, '\\n'*2, phis)\n",
    "\n",
    "    \n"
   ]
  },
  {
   "cell_type": "markdown",
   "id": "26417efb",
   "metadata": {},
   "source": [
    "#### Compute predictions using Baye's Rule"
   ]
  },
  {
   "cell_type": "markdown",
   "id": "6d02e631",
   "metadata": {},
   "source": [
    "No need to reshape as there are only 2 classes, making the problem much simpler"
   ]
  },
  {
   "cell_type": "code",
   "execution_count": 175,
   "id": "a4ed9425",
   "metadata": {},
   "outputs": [],
   "source": [
    "def nb_predictions(x, psis, phis): #returns class assignments\n",
    "    n = x.shape[0]\n",
    "    k = 2 # set on binary classification\n",
    "    \n",
    "    logpyx = np.zeros((n, k)) # creates a new array: n x k\n",
    "    \n",
    "    x = x.toarray() # need to convert sparse matrix to numpy array (error fixed by Chatgpt)\n",
    "    \n",
    "    # clip probabilities to avoid log(0)\n",
    "    psis = psis.clip(1e-14, 1-1e-14)\n",
    "    \n",
    "    #compute log probabilities\n",
    "    \n",
    "    for k in range(2):\n",
    "        logpy = np.log(phis[k]) #log probability of prior distribution\n",
    "        \n",
    "        # how likely words in tweets belong to class k\n",
    "        logpxy = (x * np.log(psis[k])) + ((1 - x) * np.log(1 - psis[k]))\n",
    "        \n",
    "        logpyx[:, k] = logpy + np.sum(logpxy, axis=1) # sum log-likelihood\n",
    "        \n",
    "    return np.argmax(logpyx, axis=1)"
   ]
  },
  {
   "cell_type": "markdown",
   "id": "e674594b",
   "metadata": {},
   "source": [
    "#### Create function to calculate f1 scores"
   ]
  },
  {
   "cell_type": "code",
   "execution_count": 179,
   "id": "4d1a8937",
   "metadata": {},
   "outputs": [],
   "source": [
    "def f1_score(y_test, y_pred):\n",
    "    tp = np.sum((y_test == 1) & (y_pred == 1)) # True Positive\n",
    "    tn = np.sum((y_test == 0) & (y_pred == 0)) # True negative\n",
    "    fp = np.sum((y_test == 0) & (y_pred == 1)) # False positive\n",
    "    fn = np.sum((y_test == 1) & (y_pred == 0)) # False negative\n",
    "    \n",
    "    #Calcualte precision\n",
    "    \n",
    "    if fp >= 0:\n",
    "        p = tp /(tp + fp) # precision\n",
    "    else:\n",
    "        p = 0\n",
    "    \n",
    "    if fn >= 0:\n",
    "        r = tp / (tp +fn) # recall\n",
    "    else:\n",
    "        r = 0\n",
    "    \n",
    "    return 2* (p*r) / (p + r)"
   ]
  },
  {
   "cell_type": "markdown",
   "id": "929645d8",
   "metadata": {},
   "source": [
    "#### Predict whether a tweet is in class (disaster, not disaster) on development test"
   ]
  },
  {
   "cell_type": "code",
   "execution_count": 180,
   "id": "96a38ca3",
   "metadata": {},
   "outputs": [],
   "source": [
    "y_pred = nb_predictions(X_test_bag, psis, phis)"
   ]
  },
  {
   "cell_type": "markdown",
   "id": "209dfffd",
   "metadata": {},
   "source": [
    "#### Compute f1 score of development test"
   ]
  },
  {
   "cell_type": "code",
   "execution_count": 181,
   "id": "bf058054",
   "metadata": {
    "scrolled": true
   },
   "outputs": [
    {
     "data": {
      "text/plain": [
       "0.7515563101301642"
      ]
     },
     "execution_count": 181,
     "metadata": {},
     "output_type": "execute_result"
    }
   ],
   "source": [
    "f1_score(y_test, y_pred)"
   ]
  },
  {
   "cell_type": "markdown",
   "id": "b27c8b1d",
   "metadata": {},
   "source": [
    "### Model Comparison"
   ]
  },
  {
   "cell_type": "markdown",
   "id": "91ba884b",
   "metadata": {},
   "source": [
    "### N - gram model"
   ]
  },
  {
   "cell_type": "markdown",
   "id": "797b05fb",
   "metadata": {},
   "source": [
    "### Determine Performance with the test set"
   ]
  },
  {
   "cell_type": "code",
   "execution_count": null,
   "id": "c8d23b0f",
   "metadata": {},
   "outputs": [],
   "source": []
  }
 ],
 "metadata": {
  "kernelspec": {
   "display_name": "Python 3 (ipykernel)",
   "language": "python",
   "name": "python3"
  },
  "language_info": {
   "codemirror_mode": {
    "name": "ipython",
    "version": 3
   },
   "file_extension": ".py",
   "mimetype": "text/x-python",
   "name": "python",
   "nbconvert_exporter": "python",
   "pygments_lexer": "ipython3",
   "version": "3.7.3"
  },
  "toc-autonumbering": false
 },
 "nbformat": 4,
 "nbformat_minor": 5
}
